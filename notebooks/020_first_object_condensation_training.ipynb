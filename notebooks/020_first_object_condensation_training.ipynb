{
 "cells": [
  {
   "cell_type": "markdown",
   "source": [
    "# First object condensation model training\n",
    "\n",
    "* **Requirements*: You need to have graphs constructed, e.g., with `010_build_graphs.ipynb`"
   ],
   "metadata": {
    "collapsed": false
   }
  },
  {
   "cell_type": "code",
   "execution_count": 10,
   "outputs": [],
   "source": [
    "from pathlib import Path\n",
    "\n",
    "from gnn_tracking.postprocessing.dbscanscanner import dbscan_scan\n",
    "\n",
    "from gnn_tracking.models.track_condensation_networks import GraphTCN\n",
    "from gnn_tracking.training.tcn_trainer import TCNTrainer\n",
    "from gnn_tracking.metrics.losses import (\n",
    "    EdgeWeightFocalLoss,\n",
    "    PotentialLoss,\n",
    "    BackgroundLoss,\n",
    ")\n",
    "from gnn_tracking.utils.loading import train_test_val_split, get_loaders\n",
    "from gnn_tracking.graph_construction.graph_builder import load_graphs"
   ],
   "metadata": {
    "collapsed": false
   }
  },
  {
   "cell_type": "code",
   "execution_count": 14,
   "outputs": [],
   "source": [
    "graph_dir = Path.home() / \"data\" / \"gnn_tracking\" / \"graphs\"\n",
    "assert graph_dir.is_dir()"
   ],
   "metadata": {
    "collapsed": false
   }
  },
  {
   "cell_type": "code",
   "execution_count": 4,
   "outputs": [
    {
     "name": "stderr",
     "output_type": "stream",
     "text": [
      "\u001B[32mINFO: Loading 10 graphs (out of 3200 available).\u001B[0m\n",
      "\u001B[36mDEBUG: Parameters for data loaders: {'batch_size': 1, 'num_workers': 1}\u001B[0m\n",
      "/scratch/gpfs/kl5675/miniconda3/envs/gnn2/lib/python3.10/site-packages/torch_geometric/deprecation.py:12: UserWarning: 'data.DataLoader' is deprecated, use 'loader.DataLoader' instead\n",
      "  warnings.warn(out)\n"
     ]
    }
   ],
   "source": [
    "graph_dict = train_test_val_split(load_graphs(graph_dir, stop=10))\n",
    "loaders = get_loaders(graph_dict)"
   ],
   "metadata": {
    "collapsed": false
   }
  },
  {
   "cell_type": "code",
   "execution_count": 5,
   "outputs": [],
   "source": [
    "loss_functions = {\n",
    "    \"edge\": EdgeWeightFocalLoss(gamma=5, alpha=0.95),\n",
    "    \"potential\": PotentialLoss(q_min=0.01),\n",
    "    \"background\": BackgroundLoss(sb=1),\n",
    "}\n",
    "\n",
    "loss_weights = {\n",
    "    \"edge\": 500,\n",
    "    \"potential_attractive\": 500,\n",
    "    \"potential_repulsive\": 5,\n",
    "    \"background\": 0.05,\n",
    "}"
   ],
   "metadata": {
    "collapsed": false
   }
  },
  {
   "cell_type": "code",
   "execution_count": 6,
   "outputs": [],
   "source": [
    "model = GraphTCN(\n",
    "    node_indim=6,\n",
    "    edge_indim=4,\n",
    "    h_dim=10,\n",
    "    e_dim=10,\n",
    "    L_ec=5,\n",
    "    L_hc=2,\n",
    "    h_outdim=10,\n",
    "    hidden_dim=128,\n",
    ")"
   ],
   "metadata": {
    "collapsed": false
   }
  },
  {
   "cell_type": "code",
   "execution_count": 11,
   "outputs": [],
   "source": [
    "clustering_functions = {\"dbscan\": dbscan_scan}"
   ],
   "metadata": {
    "collapsed": false
   }
  },
  {
   "cell_type": "code",
   "execution_count": 12,
   "outputs": [
    {
     "name": "stderr",
     "output_type": "stream",
     "text": [
      "\u001B[32mINFO: Using device cpu\u001B[0m\n"
     ]
    }
   ],
   "source": [
    "trainer = TCNTrainer(\n",
    "    model=model,\n",
    "    loaders=loaders,\n",
    "    loss_functions=loss_functions,\n",
    "    lr=0.005,\n",
    "    loss_weights=loss_weights,\n",
    "    cluster_functions=clustering_functions,\n",
    ")"
   ],
   "metadata": {
    "collapsed": false
   }
  },
  {
   "cell_type": "code",
   "execution_count": 13,
   "outputs": [
    {
     "name": "stderr",
     "output_type": "stream",
     "text": [
      "\u001B[32mINFO: Epoch  1 (    0/8): background_weighted=   0.04997, edge_weighted=   0.48573, potential_attractive_weighted=   0.00032, potential_repulsive_weighted=   2.57460\u001B[0m\n",
      "\u001B[32mINFO: Training for epoch 1 took 13.08 seconds\u001B[0m\n",
      "\u001B[33mWARNING: Only using 1 thread for DBSCAN scan\u001B[0m\n",
      "\u001B[36mDEBUG: Starting from params: {'eps': 0.95, 'min_samples': 1}\u001B[0m\n",
      "\u001B[32mINFO: Starting hyperparameter scan for clustering\u001B[0m\n",
      "\u001B[32mINFO: Completed 100 trials, pruned 0 trials\u001B[0m\n",
      "\u001B[36mDEBUG: Evaluating all metrics for best clustering\u001B[0m\n",
      "\u001B[32mINFO: Evaluating all metrics took 0.36 seconds\u001B[0m\n",
      "\u001B[32mINFO: Clustering hyperparameter scan & metric evaluation took 4.41 seconds\u001B[0m\n",
      "\u001B[32mINFO: Test step for epoch 1 took 5.67 seconds\u001B[0m\n",
      "\u001B[32mINFO: Results 1: \n",
      "+-----+-------------------------------------+-----------+\n",
      "|     | Metric                              |     Value |\n",
      "+=====+=====================================+===========+\n",
      "|     | F1_pt0.9                            |   0.17820 |\n",
      "|     | F1_pt1.5                            |   0.12676 |\n",
      "|     | FNR_pt0.9                           |   0.27976 |\n",
      "|     | FNR_pt1.5                           |   0.38800 |\n",
      "|     | FPR_pt0.9                           |   0.06487 |\n",
      "|     | FPR_pt1.5                           |   0.06005 |\n",
      "|     | MCC_pt0.9                           |   0.25425 |\n",
      "|     | MCC_pt1.5                           |   0.19320 |\n",
      "|     | TNR_pt0.9                           |   0.93513 |\n",
      "|     | TNR_pt1.5                           |   0.93995 |\n",
      "|     | TPR_pt0.9                           |   0.72024 |\n",
      "|     | TPR_pt1.5                           |   0.61200 |\n",
      "|     | acc_pt0.9                           |   0.93296 |\n",
      "|     | acc_pt1.5                           |   0.93751 |\n",
      "|     | adjusted_mutual_info                |   0.10437 |\n",
      "|     | adjusted_rand                       |   0.00686 |\n",
      "|     | background                          |   1.00000 |\n",
      "|     | background_train                    |   0.99993 |\n",
      "|     | background_weighted                 |   0.05000 |\n",
      "|     | background_weighted_train           |   0.05000 |\n",
      "|     | balanced_acc_pt0.9                  |   0.82768 |\n",
      "|     | balanced_acc_pt1.5                  |   0.77597 |\n",
      "|     | best_dbscan_eps                     |   0.00130 |\n",
      "|     | best_dbscan_min_samples             |   2.00000 |\n",
      "|     | completeness                        |   0.68221 |\n",
      "|     | edge                                |   0.00078 |\n",
      "|     | edge_train                          |   0.00095 |\n",
      "|     | edge_weighted                       |   0.38756 |\n",
      "|     | edge_weighted_train                 |   0.47654 |\n",
      "|     | fowlkes_mallows                     |   0.02635 |\n",
      "|     | homogeneity                         |   0.59860 |\n",
      "|     | max_ba_loc_pt0.9                    |   0.48241 |\n",
      "|     | max_ba_loc_pt1.5                    |   0.44724 |\n",
      "|     | max_ba_pt0.9                        |   0.83808 |\n",
      "|     | max_ba_pt1.5                        |   0.80932 |\n",
      "|     | max_f1_loc_pt0.9                    |   0.62312 |\n",
      "|     | max_f1_loc_pt1.5                    |   0.62312 |\n",
      "|     | max_f1_pt0.9                        |   0.50491 |\n",
      "|     | max_f1_pt1.5                        |   0.39169 |\n",
      "|     | max_mcc_loc_pt0.9                   |   0.62312 |\n",
      "|     | max_mcc_loc_pt1.5                   |   0.63317 |\n",
      "|     | max_mcc_pt0.9                       |   0.52085 |\n",
      "|     | max_mcc_pt1.5                       |   0.45765 |\n",
      "|     | potential_attractive                |   0.00000 |\n",
      "|     | potential_attractive_train          |   0.00716 |\n",
      "|     | potential_attractive_weighted       |   0.00135 |\n",
      "|     | potential_attractive_weighted_train |   3.57774 |\n",
      "|     | potential_repulsive                 |   0.54810 |\n",
      "|     | potential_repulsive_train           |   0.40307 |\n",
      "|     | potential_repulsive_weighted        |   2.74048 |\n",
      "|     | potential_repulsive_weighted_train  |   2.01536 |\n",
      "|     | roc_auc_0.001FPR_pt0.9              |   0.61940 |\n",
      "|     | roc_auc_0.001FPR_pt1.5              |   0.61870 |\n",
      "|     | roc_auc_0.01FPR_pt0.9               |   0.70579 |\n",
      "|     | roc_auc_0.01FPR_pt1.5               |   0.64904 |\n",
      "|     | roc_auc_0.1FPR_pt0.9                |   0.81455 |\n",
      "|     | roc_auc_0.1FPR_pt1.5                |   0.76478 |\n",
      "| --> | roc_auc_pt0.9                       |   0.91404 |\n",
      "| --> | roc_auc_pt1.5                       |   0.87943 |\n",
      "|     | total                               |   3.17939 |\n",
      "|     | total_train                         |   6.11963 |\n",
      "|     | tpr_eq_tnr_loc_pt0.9                |   0.45226 |\n",
      "|     | tpr_eq_tnr_loc_pt1.5                |   0.44221 |\n",
      "| --> | tpr_eq_tnr_pt0.9                    |   0.82593 |\n",
      "| --> | tpr_eq_tnr_pt1.5                    |   0.80354 |\n",
      "|     | trk.double_majority                 |   0.00000 |\n",
      "|     | trk.double_majority_pt0.5           |   0.00000 |\n",
      "| --> | trk.double_majority_pt0.9           |   0.00000 |\n",
      "| --> | trk.double_majority_pt1.5           |   0.00000 |\n",
      "|     | trk.fake_double_majority            |   0.65109 |\n",
      "|     | trk.fake_double_majority_pt0.5      |   0.73282 |\n",
      "| --> | trk.fake_double_majority_pt0.9      |   0.65517 |\n",
      "| --> | trk.fake_double_majority_pt1.5      |   0.68421 |\n",
      "|     | trk.fake_lhc                        |   0.98086 |\n",
      "|     | trk.fake_lhc_pt0.5                  |   0.98958 |\n",
      "|     | trk.fake_lhc_pt0.9                  |   1.00000 |\n",
      "|     | trk.fake_lhc_pt1.5                  |   1.00000 |\n",
      "|     | trk.fake_perfect                    |   0.65109 |\n",
      "|     | trk.fake_perfect_pt0.5              |   0.73282 |\n",
      "|     | trk.fake_perfect_pt0.9              |   0.65517 |\n",
      "|     | trk.fake_perfect_pt1.5              |   0.68421 |\n",
      "|     | trk.lhc                             |   0.01914 |\n",
      "|     | trk.lhc_pt0.5                       |   0.01042 |\n",
      "|     | trk.lhc_pt0.9                       |   0.00000 |\n",
      "|     | trk.lhc_pt1.5                       |   0.00000 |\n",
      "|     | trk.n_cleaned_clusters              | 209.00000 |\n",
      "|     | trk.n_cleaned_clusters_pt0.5        |  96.00000 |\n",
      "|     | trk.n_cleaned_clusters_pt0.9        |  38.00000 |\n",
      "|     | trk.n_cleaned_clusters_pt1.5        |  13.00000 |\n",
      "|     | trk.n_particles                     | 321.00000 |\n",
      "|     | trk.n_particles_pt0.5               | 131.00000 |\n",
      "|     | trk.n_particles_pt0.9               |  58.00000 |\n",
      "|     | trk.n_particles_pt1.5               |  19.00000 |\n",
      "|     | trk.perfect                         |   0.00000 |\n",
      "|     | trk.perfect_pt0.5                   |   0.00000 |\n",
      "|     | trk.perfect_pt0.9                   |   0.00000 |\n",
      "|     | trk.perfect_pt1.5                   |   0.00000 |\n",
      "|     | v_measure                           |   0.63768 |\n",
      "+-----+-------------------------------------+-----------+\u001B[0m\n",
      "\u001B[32mINFO: Epoch  2 (    0/8): background_weighted=   0.05000, edge_weighted=   0.46061, potential_attractive_weighted=   0.00343, potential_repulsive_weighted=   2.46010\u001B[0m\n",
      "\u001B[32mINFO: Training for epoch 2 took 13.10 seconds\u001B[0m\n",
      "\u001B[33mWARNING: Only using 1 thread for DBSCAN scan\u001B[0m\n",
      "\u001B[36mDEBUG: Starting from params: {'eps': 0.0013039113914964768, 'min_samples': 2}\u001B[0m\n",
      "\u001B[32mINFO: Starting hyperparameter scan for clustering\u001B[0m\n",
      "\u001B[32mINFO: Completed 100 trials, pruned 0 trials\u001B[0m\n",
      "\u001B[36mDEBUG: Evaluating all metrics for best clustering\u001B[0m\n",
      "\u001B[32mINFO: Evaluating all metrics took 0.26 seconds\u001B[0m\n",
      "\u001B[32mINFO: Clustering hyperparameter scan & metric evaluation took 3.88 seconds\u001B[0m\n",
      "\u001B[32mINFO: Test step for epoch 2 took 5.12 seconds\u001B[0m\n",
      "\u001B[32mINFO: Results 2: \n",
      "+-----+-------------------------------------+-----------+\n",
      "|     | Metric                              |     Value |\n",
      "+=====+=====================================+===========+\n",
      "|     | F1_pt0.9                            |   0.39442 |\n",
      "|     | F1_pt1.5                            |   0.29003 |\n",
      "|     | FNR_pt0.9                           |   0.51190 |\n",
      "|     | FNR_pt1.5                           |   0.61600 |\n",
      "|     | FPR_pt0.9                           |   0.01006 |\n",
      "|     | FPR_pt1.5                           |   0.00944 |\n",
      "|     | MCC_pt0.9                           |   0.39456 |\n",
      "|     | MCC_pt1.5                           |   0.29248 |\n",
      "|     | TNR_pt0.9                           |   0.98994 |\n",
      "|     | TNR_pt1.5                           |   0.99056 |\n",
      "|     | TPR_pt0.9                           |   0.48810 |\n",
      "|     | TPR_pt1.5                           |   0.38400 |\n",
      "|     | acc_pt0.9                           |   0.98487 |\n",
      "|     | acc_pt1.5                           |   0.98607 |\n",
      "|     | adjusted_mutual_info                |   0.09574 |\n",
      "|     | adjusted_rand                       |   0.01087 |\n",
      "|     | background                          |   1.00000 |\n",
      "|     | background_train                    |   1.00000 |\n",
      "|     | background_weighted                 |   0.05000 |\n",
      "|     | background_weighted_train           |   0.05000 |\n",
      "|     | balanced_acc_pt0.9                  |   0.73902 |\n",
      "|     | balanced_acc_pt1.5                  |   0.68728 |\n",
      "|     | best_dbscan_eps                     |   0.00130 |\n",
      "|     | best_dbscan_min_samples             |   2.00000 |\n",
      "|     | completeness                        |   0.63703 |\n",
      "|     | edge                                |   0.00079 |\n",
      "|     | edge_train                          |   0.00090 |\n",
      "|     | edge_weighted                       |   0.39526 |\n",
      "|     | edge_weighted_train                 |   0.44919 |\n",
      "|     | fowlkes_mallows                     |   0.03271 |\n",
      "|     | homogeneity                         |   0.48450 |\n",
      "|     | max_ba_loc_pt0.9                    |   0.43216 |\n",
      "|     | max_ba_loc_pt1.5                    |   0.43216 |\n",
      "|     | max_ba_pt0.9                        |   0.83212 |\n",
      "|     | max_ba_pt1.5                        |   0.80055 |\n",
      "|     | max_f1_loc_pt0.9                    |   0.56281 |\n",
      "|     | max_f1_loc_pt1.5                    |   0.56281 |\n",
      "|     | max_f1_pt0.9                        |   0.53283 |\n",
      "|     | max_f1_pt1.5                        |   0.41692 |\n",
      "|     | max_mcc_loc_pt0.9                   |   0.56784 |\n",
      "|     | max_mcc_loc_pt1.5                   |   0.57286 |\n",
      "|     | max_mcc_pt0.9                       |   0.55331 |\n",
      "|     | max_mcc_pt1.5                       |   0.48625 |\n",
      "|     | potential_attractive                |   0.00001 |\n",
      "|     | potential_attractive_train          |   0.00001 |\n",
      "|     | potential_attractive_weighted       |   0.00279 |\n",
      "|     | potential_attractive_weighted_train |   0.00670 |\n",
      "|     | potential_repulsive                 |   0.54551 |\n",
      "|     | potential_repulsive_train           |   0.48197 |\n",
      "|     | potential_repulsive_weighted        |   2.72753 |\n",
      "|     | potential_repulsive_weighted_train  |   2.40983 |\n",
      "|     | roc_auc_0.001FPR_pt0.9              |   0.64203 |\n",
      "|     | roc_auc_0.001FPR_pt1.5              |   0.63032 |\n",
      "|     | roc_auc_0.01FPR_pt0.9               |   0.71586 |\n",
      "|     | roc_auc_0.01FPR_pt1.5               |   0.66158 |\n",
      "|     | roc_auc_0.1FPR_pt0.9                |   0.80807 |\n",
      "|     | roc_auc_0.1FPR_pt1.5                |   0.75325 |\n",
      "| --> | roc_auc_pt0.9                       |   0.91558 |\n",
      "| --> | roc_auc_pt1.5                       |   0.87977 |\n",
      "|     | total                               |   3.17558 |\n",
      "|     | total_train                         |   2.91573 |\n",
      "|     | tpr_eq_tnr_loc_pt0.9                |   0.42714 |\n",
      "|     | tpr_eq_tnr_loc_pt1.5                |   0.42211 |\n",
      "| --> | tpr_eq_tnr_pt0.9                    |   0.82970 |\n",
      "| --> | tpr_eq_tnr_pt1.5                    |   0.78608 |\n",
      "|     | trk.double_majority                 |   0.00000 |\n",
      "|     | trk.double_majority_pt0.5           |   0.00000 |\n",
      "| --> | trk.double_majority_pt0.9           |   0.00000 |\n",
      "| --> | trk.double_majority_pt1.5           |   0.00000 |\n",
      "|     | trk.fake_double_majority            |   0.37383 |\n",
      "|     | trk.fake_double_majority_pt0.5      |   0.35878 |\n",
      "| --> | trk.fake_double_majority_pt0.9      |   0.32759 |\n",
      "| --> | trk.fake_double_majority_pt1.5      |   0.31579 |\n",
      "|     | trk.fake_lhc                        |   0.95833 |\n",
      "|     | trk.fake_lhc_pt0.5                  |   0.95745 |\n",
      "|     | trk.fake_lhc_pt0.9                  |   1.00000 |\n",
      "|     | trk.fake_lhc_pt1.5                  |   1.00000 |\n",
      "|     | trk.fake_perfect                    |   0.37383 |\n",
      "|     | trk.fake_perfect_pt0.5              |   0.35878 |\n",
      "|     | trk.fake_perfect_pt0.9              |   0.32759 |\n",
      "|     | trk.fake_perfect_pt1.5              |   0.31579 |\n",
      "|     | trk.lhc                             |   0.04167 |\n",
      "|     | trk.lhc_pt0.5                       |   0.04255 |\n",
      "|     | trk.lhc_pt0.9                       |   0.00000 |\n",
      "|     | trk.lhc_pt1.5                       |   0.00000 |\n",
      "|     | trk.n_cleaned_clusters              | 120.00000 |\n",
      "|     | trk.n_cleaned_clusters_pt0.5        |  47.00000 |\n",
      "|     | trk.n_cleaned_clusters_pt0.9        |  19.00000 |\n",
      "|     | trk.n_cleaned_clusters_pt1.5        |   6.00000 |\n",
      "|     | trk.n_particles                     | 321.00000 |\n",
      "|     | trk.n_particles_pt0.5               | 131.00000 |\n",
      "|     | trk.n_particles_pt0.9               |  58.00000 |\n",
      "|     | trk.n_particles_pt1.5               |  19.00000 |\n",
      "|     | trk.perfect                         |   0.00000 |\n",
      "|     | trk.perfect_pt0.5                   |   0.00000 |\n",
      "|     | trk.perfect_pt0.9                   |   0.00000 |\n",
      "|     | trk.perfect_pt1.5                   |   0.00000 |\n",
      "|     | v_measure                           |   0.55039 |\n",
      "+-----+-------------------------------------+-----------+\u001B[0m\n",
      "\u001B[32mINFO: Saving checkpoint to 230127_165712_model.pt\u001B[0m\n"
     ]
    }
   ],
   "source": [
    "trainer.train(epochs=2)"
   ],
   "metadata": {
    "collapsed": false
   }
  },
  {
   "cell_type": "code",
   "execution_count": null,
   "outputs": [],
   "source": [],
   "metadata": {
    "collapsed": false
   }
  }
 ],
 "metadata": {
  "kernelspec": {
   "display_name": "Python 3",
   "language": "python",
   "name": "python3"
  },
  "language_info": {
   "codemirror_mode": {
    "name": "ipython",
    "version": 2
   },
   "file_extension": ".py",
   "mimetype": "text/x-python",
   "name": "python",
   "nbconvert_exporter": "python",
   "pygments_lexer": "ipython2",
   "version": "2.7.6"
  }
 },
 "nbformat": 4,
 "nbformat_minor": 0
}
