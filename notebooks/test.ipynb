{
 "cells": [
  {
   "cell_type": "code",
   "execution_count": 49,
   "metadata": {},
   "outputs": [],
   "source": [
    "from gnn_tracking.preprocessing.point_cloud_builder import PointCloudBuilder\n",
    "import torch_geometric\n",
    "import torch"
   ]
  },
  {
   "cell_type": "code",
   "execution_count": 50,
   "metadata": {},
   "outputs": [],
   "source": [
    "# unpack data\n",
    "\n",
    "import os\n",
    "import tarfile\n",
    "\n",
    "raw_data_dir = \"../raw_data\"\n",
    "output_dir = \"../data\"\n",
    "\n",
    "for filename in os.listdir(raw_data_dir):\n",
    "    if filename.endswith(\".tar.gz\"):\n",
    "        tar_gz_path = os.path.join(raw_data_dir, filename)\n",
    "        tar = tarfile.open(tar_gz_path, \"r:gz\")\n",
    "        tar.extractall(output_dir)\n",
    "        tar.close()\n"
   ]
  },
  {
   "cell_type": "code",
   "execution_count": 53,
   "metadata": {},
   "outputs": [
    {
     "name": "stdout",
     "output_type": "stream",
     "text": [
      "900\n"
     ]
    }
   ],
   "source": [
    "# Load data\n",
    "\n",
    "raw_data = []\n",
    "for filename in os.listdir(output_dir):\n",
    "    directoryname = os.path.join(output_dir, filename)\n",
    "    for data in os.listdir(directoryname):\n",
    "        dataname = os.path.join(directoryname, data)\n",
    "        raw_data.append(torch.load(dataname))\n",
    "print(len(raw_data))"
   ]
  },
  {
   "cell_type": "code",
   "execution_count": 36,
   "metadata": {},
   "outputs": [
    {
     "name": "stdout",
     "output_type": "stream",
     "text": [
      "tensor([148619406178516992, 148619406178516992, 707065759972458496,\n",
      "         ..., 481886534518177792, 481886534518177792,\n",
      "        139620040944123904])\n",
      "torch.Size([7285, 7])\n",
      "tensor([ 7.3297e+01, -2.9506e+00, -1.5025e+03, -3.7141e+00, -1.3395e-02,\n",
      "        -2.5899e-03,  3.4713e-01])\n"
     ]
    }
   ],
   "source": [
    "import torch\n",
    "state_dict = torch.load('../data/part_1_0/data21025_s0.pt')\n",
    "print(state_dict.particle_id)\n",
    "print(state_dict.x.size())\n",
    "print(state_dict.x[0])"
   ]
  },
  {
   "cell_type": "code",
   "execution_count": null,
   "metadata": {},
   "outputs": [],
   "source": []
  }
 ],
 "metadata": {
  "kernelspec": {
   "display_name": "Python 3",
   "language": "python",
   "name": "python3"
  },
  "language_info": {
   "codemirror_mode": {
    "name": "ipython",
    "version": 3
   },
   "file_extension": ".py",
   "mimetype": "text/x-python",
   "name": "python",
   "nbconvert_exporter": "python",
   "pygments_lexer": "ipython3",
   "version": "3.11.3"
  },
  "orig_nbformat": 4
 },
 "nbformat": 4,
 "nbformat_minor": 2
}
